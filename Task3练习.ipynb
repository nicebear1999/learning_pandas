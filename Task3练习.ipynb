{
 "metadata": {
  "language_info": {
   "codemirror_mode": {
    "name": "ipython",
    "version": 3
   },
   "file_extension": ".py",
   "mimetype": "text/x-python",
   "name": "python",
   "nbconvert_exporter": "python",
   "pygments_lexer": "ipython3",
   "version": "3.7.9-final"
  },
  "orig_nbformat": 2,
  "kernelspec": {
   "name": "python3",
   "display_name": "Python 3",
   "language": "python"
  }
 },
 "nbformat": 4,
 "nbformat_minor": 2,
 "cells": [
  {
   "cell_type": "code",
   "execution_count": 7,
   "metadata": {},
   "outputs": [],
   "source": [
    "import pandas as pd"
   ]
  },
  {
   "source": [
    "### Ex1：公司员工数据集\n",
    "现有一份公司员工数据集："
   ],
   "cell_type": "markdown",
   "metadata": {}
  },
  {
   "cell_type": "code",
   "execution_count": 8,
   "metadata": {},
   "outputs": [
    {
     "output_type": "execute_result",
     "data": {
      "text/plain": [
       "   EmployeeID birthdate_key  age  city_name department      job_title gender\n",
       "0        1318      1/3/1954   61  Vancouver  Executive            CEO      M\n",
       "1        1319      1/3/1957   58  Vancouver  Executive      VP Stores      F\n",
       "2        1320      1/2/1955   60  Vancouver  Executive  Legal Counsel      F"
      ],
      "text/html": "<div>\n<style scoped>\n    .dataframe tbody tr th:only-of-type {\n        vertical-align: middle;\n    }\n\n    .dataframe tbody tr th {\n        vertical-align: top;\n    }\n\n    .dataframe thead th {\n        text-align: right;\n    }\n</style>\n<table border=\"1\" class=\"dataframe\">\n  <thead>\n    <tr style=\"text-align: right;\">\n      <th></th>\n      <th>EmployeeID</th>\n      <th>birthdate_key</th>\n      <th>age</th>\n      <th>city_name</th>\n      <th>department</th>\n      <th>job_title</th>\n      <th>gender</th>\n    </tr>\n  </thead>\n  <tbody>\n    <tr>\n      <th>0</th>\n      <td>1318</td>\n      <td>1/3/1954</td>\n      <td>61</td>\n      <td>Vancouver</td>\n      <td>Executive</td>\n      <td>CEO</td>\n      <td>M</td>\n    </tr>\n    <tr>\n      <th>1</th>\n      <td>1319</td>\n      <td>1/3/1957</td>\n      <td>58</td>\n      <td>Vancouver</td>\n      <td>Executive</td>\n      <td>VP Stores</td>\n      <td>F</td>\n    </tr>\n    <tr>\n      <th>2</th>\n      <td>1320</td>\n      <td>1/2/1955</td>\n      <td>60</td>\n      <td>Vancouver</td>\n      <td>Executive</td>\n      <td>Legal Counsel</td>\n      <td>F</td>\n    </tr>\n  </tbody>\n</table>\n</div>"
     },
     "metadata": {},
     "execution_count": 8
    }
   ],
   "source": [
    "df = pd.read_csv('./data/company.csv')\n",
    "df.head(3)"
   ]
  },
  {
   "source": [
    "1. 分别只使用`query`和`loc`选出年龄不超过四十岁且工作部门为`Dairy`或`Bakery`的男性。"
   ],
   "cell_type": "markdown",
   "metadata": {}
  },
  {
   "cell_type": "code",
   "execution_count": 14,
   "metadata": {},
   "outputs": [
    {
     "output_type": "execute_result",
     "data": {
      "text/plain": [
       "      EmployeeID birthdate_key  age city_name department     job_title gender\n",
       "3611        5791     1/14/1975   40   Kelowna      Dairy  Dairy Person      M\n",
       "3613        5793     1/22/1975   40  Richmond     Bakery         Baker      M\n",
       "3615        5795     1/30/1975   40   Nanaimo      Dairy  Dairy Person      M\n",
       "3617        5797      2/3/1975   40   Nanaimo      Dairy  Dairy Person      M\n",
       "3618        5798      2/4/1975   40    Surrey      Dairy  Dairy Person      M"
      ],
      "text/html": "<div>\n<style scoped>\n    .dataframe tbody tr th:only-of-type {\n        vertical-align: middle;\n    }\n\n    .dataframe tbody tr th {\n        vertical-align: top;\n    }\n\n    .dataframe thead th {\n        text-align: right;\n    }\n</style>\n<table border=\"1\" class=\"dataframe\">\n  <thead>\n    <tr style=\"text-align: right;\">\n      <th></th>\n      <th>EmployeeID</th>\n      <th>birthdate_key</th>\n      <th>age</th>\n      <th>city_name</th>\n      <th>department</th>\n      <th>job_title</th>\n      <th>gender</th>\n    </tr>\n  </thead>\n  <tbody>\n    <tr>\n      <th>3611</th>\n      <td>5791</td>\n      <td>1/14/1975</td>\n      <td>40</td>\n      <td>Kelowna</td>\n      <td>Dairy</td>\n      <td>Dairy Person</td>\n      <td>M</td>\n    </tr>\n    <tr>\n      <th>3613</th>\n      <td>5793</td>\n      <td>1/22/1975</td>\n      <td>40</td>\n      <td>Richmond</td>\n      <td>Bakery</td>\n      <td>Baker</td>\n      <td>M</td>\n    </tr>\n    <tr>\n      <th>3615</th>\n      <td>5795</td>\n      <td>1/30/1975</td>\n      <td>40</td>\n      <td>Nanaimo</td>\n      <td>Dairy</td>\n      <td>Dairy Person</td>\n      <td>M</td>\n    </tr>\n    <tr>\n      <th>3617</th>\n      <td>5797</td>\n      <td>2/3/1975</td>\n      <td>40</td>\n      <td>Nanaimo</td>\n      <td>Dairy</td>\n      <td>Dairy Person</td>\n      <td>M</td>\n    </tr>\n    <tr>\n      <th>3618</th>\n      <td>5798</td>\n      <td>2/4/1975</td>\n      <td>40</td>\n      <td>Surrey</td>\n      <td>Dairy</td>\n      <td>Dairy Person</td>\n      <td>M</td>\n    </tr>\n  </tbody>\n</table>\n</div>"
     },
     "metadata": {},
     "execution_count": 14
    }
   ],
   "source": [
    "df.query(\"(age <= 40)&(department == ['Dairy', 'Bakery'])&(gender=='M')\").head()"
   ]
  },
  {
   "cell_type": "code",
   "execution_count": 15,
   "metadata": {},
   "outputs": [
    {
     "output_type": "execute_result",
     "data": {
      "text/plain": [
       "      EmployeeID birthdate_key  age city_name department     job_title gender\n",
       "3611        5791     1/14/1975   40   Kelowna      Dairy  Dairy Person      M\n",
       "3613        5793     1/22/1975   40  Richmond     Bakery         Baker      M\n",
       "3615        5795     1/30/1975   40   Nanaimo      Dairy  Dairy Person      M\n",
       "3617        5797      2/3/1975   40   Nanaimo      Dairy  Dairy Person      M\n",
       "3618        5798      2/4/1975   40    Surrey      Dairy  Dairy Person      M"
      ],
      "text/html": "<div>\n<style scoped>\n    .dataframe tbody tr th:only-of-type {\n        vertical-align: middle;\n    }\n\n    .dataframe tbody tr th {\n        vertical-align: top;\n    }\n\n    .dataframe thead th {\n        text-align: right;\n    }\n</style>\n<table border=\"1\" class=\"dataframe\">\n  <thead>\n    <tr style=\"text-align: right;\">\n      <th></th>\n      <th>EmployeeID</th>\n      <th>birthdate_key</th>\n      <th>age</th>\n      <th>city_name</th>\n      <th>department</th>\n      <th>job_title</th>\n      <th>gender</th>\n    </tr>\n  </thead>\n  <tbody>\n    <tr>\n      <th>3611</th>\n      <td>5791</td>\n      <td>1/14/1975</td>\n      <td>40</td>\n      <td>Kelowna</td>\n      <td>Dairy</td>\n      <td>Dairy Person</td>\n      <td>M</td>\n    </tr>\n    <tr>\n      <th>3613</th>\n      <td>5793</td>\n      <td>1/22/1975</td>\n      <td>40</td>\n      <td>Richmond</td>\n      <td>Bakery</td>\n      <td>Baker</td>\n      <td>M</td>\n    </tr>\n    <tr>\n      <th>3615</th>\n      <td>5795</td>\n      <td>1/30/1975</td>\n      <td>40</td>\n      <td>Nanaimo</td>\n      <td>Dairy</td>\n      <td>Dairy Person</td>\n      <td>M</td>\n    </tr>\n    <tr>\n      <th>3617</th>\n      <td>5797</td>\n      <td>2/3/1975</td>\n      <td>40</td>\n      <td>Nanaimo</td>\n      <td>Dairy</td>\n      <td>Dairy Person</td>\n      <td>M</td>\n    </tr>\n    <tr>\n      <th>3618</th>\n      <td>5798</td>\n      <td>2/4/1975</td>\n      <td>40</td>\n      <td>Surrey</td>\n      <td>Dairy</td>\n      <td>Dairy Person</td>\n      <td>M</td>\n    </tr>\n  </tbody>\n</table>\n</div>"
     },
     "metadata": {},
     "execution_count": 15
    }
   ],
   "source": [
    "df.loc[(df.age<=40)&df.department.isin(['Dairy', 'Bakery'])&(df.gender=='M')].head()"
   ]
  },
  {
   "source": [
    "2. 选出员工`ID`号 为奇数所在行的第1、第3和倒数第2列。"
   ],
   "cell_type": "markdown",
   "metadata": {}
  },
  {
   "cell_type": "code",
   "execution_count": 16,
   "metadata": {},
   "outputs": [
    {
     "output_type": "execute_result",
     "data": {
      "text/plain": [
       "   EmployeeID  age                      job_title\n",
       "1        1319   58                      VP Stores\n",
       "3        1321   56             VP Human Resources\n",
       "5        1323   53      Exec Assistant, VP Stores\n",
       "6        1325   51  Exec Assistant, Legal Counsel\n",
       "8        1329   48                  Store Manager"
      ],
      "text/html": "<div>\n<style scoped>\n    .dataframe tbody tr th:only-of-type {\n        vertical-align: middle;\n    }\n\n    .dataframe tbody tr th {\n        vertical-align: top;\n    }\n\n    .dataframe thead th {\n        text-align: right;\n    }\n</style>\n<table border=\"1\" class=\"dataframe\">\n  <thead>\n    <tr style=\"text-align: right;\">\n      <th></th>\n      <th>EmployeeID</th>\n      <th>age</th>\n      <th>job_title</th>\n    </tr>\n  </thead>\n  <tbody>\n    <tr>\n      <th>1</th>\n      <td>1319</td>\n      <td>58</td>\n      <td>VP Stores</td>\n    </tr>\n    <tr>\n      <th>3</th>\n      <td>1321</td>\n      <td>56</td>\n      <td>VP Human Resources</td>\n    </tr>\n    <tr>\n      <th>5</th>\n      <td>1323</td>\n      <td>53</td>\n      <td>Exec Assistant, VP Stores</td>\n    </tr>\n    <tr>\n      <th>6</th>\n      <td>1325</td>\n      <td>51</td>\n      <td>Exec Assistant, Legal Counsel</td>\n    </tr>\n    <tr>\n      <th>8</th>\n      <td>1329</td>\n      <td>48</td>\n      <td>Store Manager</td>\n    </tr>\n  </tbody>\n</table>\n</div>"
     },
     "metadata": {},
     "execution_count": 16
    }
   ],
   "source": [
    "df.iloc[(df.EmployeeID%2==1).values,[0,2,-2]].head()"
   ]
  },
  {
   "source": [
    "3. 按照以下步骤进行索引操作：\n",
    "\n",
    "* 把后三列设为索引后交换内外两层\n",
    "* 恢复中间一层\n",
    "* 修改外层索引名为`Gender`\n",
    "* 用下划线合并两层行索引\n",
    "* 把行索引拆分为原状态\n",
    "* 修改索引名为原表名称\n",
    "* 恢复默认索引并将列保持为原表的相对位置"
   ],
   "cell_type": "markdown",
   "metadata": {}
  },
  {
   "cell_type": "code",
   "execution_count": 17,
   "metadata": {},
   "outputs": [
    {
     "output_type": "execute_result",
     "data": {
      "text/plain": [
       "True"
      ]
     },
     "metadata": {},
     "execution_count": 17
    }
   ],
   "source": [
    "df_op = df.copy()\n",
    "df_op = df_op.set_index(df_op.columns[-3:].tolist()).swaplevel(0,2,axis=0)\n",
    "df_op = df_op.reset_index(level=1)\n",
    "df_op = df_op.rename_axis(index={'gender':'Gender'})\n",
    "df_op.index = df_op.index.map(lambda x:'_'.join(x))\n",
    "df_op.index = df_op.index.map(lambda x:tuple(x.split('_')))\n",
    "df_op = df_op.rename_axis(index=['gender', 'department'])\n",
    "df_op = df_op.reset_index().reindex(df.columns, axis=1)\n",
    "df_op.equals(df)"
   ]
  },
  {
   "source": [
    "### Ex2：巧克力数据集\n",
    "现有一份关于巧克力评价的数据集："
   ],
   "cell_type": "markdown",
   "metadata": {}
  },
  {
   "cell_type": "code",
   "execution_count": 23,
   "metadata": {},
   "outputs": [
    {
     "output_type": "execute_result",
     "data": {
      "text/plain": [
       "    Company  Review\\nDate Cocoa\\nPercent Company\\nLocation  Rating\n",
       "0  A. Morin          2016            63%            France    3.75\n",
       "1  A. Morin          2015            70%            France    2.75\n",
       "2  A. Morin          2015            70%            France    3.00"
      ],
      "text/html": "<div>\n<style scoped>\n    .dataframe tbody tr th:only-of-type {\n        vertical-align: middle;\n    }\n\n    .dataframe tbody tr th {\n        vertical-align: top;\n    }\n\n    .dataframe thead th {\n        text-align: right;\n    }\n</style>\n<table border=\"1\" class=\"dataframe\">\n  <thead>\n    <tr style=\"text-align: right;\">\n      <th></th>\n      <th>Company</th>\n      <th>Review\\nDate</th>\n      <th>Cocoa\\nPercent</th>\n      <th>Company\\nLocation</th>\n      <th>Rating</th>\n    </tr>\n  </thead>\n  <tbody>\n    <tr>\n      <th>0</th>\n      <td>A. Morin</td>\n      <td>2016</td>\n      <td>63%</td>\n      <td>France</td>\n      <td>3.75</td>\n    </tr>\n    <tr>\n      <th>1</th>\n      <td>A. Morin</td>\n      <td>2015</td>\n      <td>70%</td>\n      <td>France</td>\n      <td>2.75</td>\n    </tr>\n    <tr>\n      <th>2</th>\n      <td>A. Morin</td>\n      <td>2015</td>\n      <td>70%</td>\n      <td>France</td>\n      <td>3.00</td>\n    </tr>\n  </tbody>\n</table>\n</div>"
     },
     "metadata": {},
     "execution_count": 23
    }
   ],
   "source": [
    "df = pd.read_csv('./data/chocolate.csv')\n",
    "df.head(3)"
   ]
  },
  {
   "source": [
    "1. 把列索引名中的`\\n`替换为空格。"
   ],
   "cell_type": "markdown",
   "metadata": {}
  },
  {
   "cell_type": "code",
   "execution_count": 24,
   "metadata": {},
   "outputs": [
    {
     "output_type": "execute_result",
     "data": {
      "text/plain": [
       "    Company  Review Date Cocoa Percent Company Location  Rating\n",
       "0  A. Morin         2016           63%           France    3.75\n",
       "1  A. Morin         2015           70%           France    2.75\n",
       "2  A. Morin         2015           70%           France    3.00\n",
       "3  A. Morin         2015           70%           France    3.50\n",
       "4  A. Morin         2015           70%           France    3.50"
      ],
      "text/html": "<div>\n<style scoped>\n    .dataframe tbody tr th:only-of-type {\n        vertical-align: middle;\n    }\n\n    .dataframe tbody tr th {\n        vertical-align: top;\n    }\n\n    .dataframe thead th {\n        text-align: right;\n    }\n</style>\n<table border=\"1\" class=\"dataframe\">\n  <thead>\n    <tr style=\"text-align: right;\">\n      <th></th>\n      <th>Company</th>\n      <th>Review Date</th>\n      <th>Cocoa Percent</th>\n      <th>Company Location</th>\n      <th>Rating</th>\n    </tr>\n  </thead>\n  <tbody>\n    <tr>\n      <th>0</th>\n      <td>A. Morin</td>\n      <td>2016</td>\n      <td>63%</td>\n      <td>France</td>\n      <td>3.75</td>\n    </tr>\n    <tr>\n      <th>1</th>\n      <td>A. Morin</td>\n      <td>2015</td>\n      <td>70%</td>\n      <td>France</td>\n      <td>2.75</td>\n    </tr>\n    <tr>\n      <th>2</th>\n      <td>A. Morin</td>\n      <td>2015</td>\n      <td>70%</td>\n      <td>France</td>\n      <td>3.00</td>\n    </tr>\n    <tr>\n      <th>3</th>\n      <td>A. Morin</td>\n      <td>2015</td>\n      <td>70%</td>\n      <td>France</td>\n      <td>3.50</td>\n    </tr>\n    <tr>\n      <th>4</th>\n      <td>A. Morin</td>\n      <td>2015</td>\n      <td>70%</td>\n      <td>France</td>\n      <td>3.50</td>\n    </tr>\n  </tbody>\n</table>\n</div>"
     },
     "metadata": {},
     "execution_count": 24
    }
   ],
   "source": [
    "df.columns = [' '.join(i.split('\\n')) for i in df.columns]\n",
    "df.head()"
   ]
  },
  {
   "source": [
    "2. 巧克力`Rating`评分为1至5，每0.25分一档，请选出2.75分及以下且可可含量`Cocoa Percent`高于中位数的样本。"
   ],
   "cell_type": "markdown",
   "metadata": {}
  },
  {
   "cell_type": "code",
   "execution_count": 25,
   "metadata": {},
   "outputs": [
    {
     "output_type": "execute_result",
     "data": {
      "text/plain": [
       "               Company  Review Date  Cocoa Percent Company Location  Rating\n",
       "33  Akesson's (Pralus)         2010           0.75      Switzerland    2.75\n",
       "34  Akesson's (Pralus)         2010           0.75      Switzerland    2.75\n",
       "36       Alain Ducasse         2014           0.75           France    2.75\n",
       "38       Alain Ducasse         2013           0.75           France    2.50\n",
       "39       Alain Ducasse         2013           0.75           France    2.50"
      ],
      "text/html": "<div>\n<style scoped>\n    .dataframe tbody tr th:only-of-type {\n        vertical-align: middle;\n    }\n\n    .dataframe tbody tr th {\n        vertical-align: top;\n    }\n\n    .dataframe thead th {\n        text-align: right;\n    }\n</style>\n<table border=\"1\" class=\"dataframe\">\n  <thead>\n    <tr style=\"text-align: right;\">\n      <th></th>\n      <th>Company</th>\n      <th>Review Date</th>\n      <th>Cocoa Percent</th>\n      <th>Company Location</th>\n      <th>Rating</th>\n    </tr>\n  </thead>\n  <tbody>\n    <tr>\n      <th>33</th>\n      <td>Akesson's (Pralus)</td>\n      <td>2010</td>\n      <td>0.75</td>\n      <td>Switzerland</td>\n      <td>2.75</td>\n    </tr>\n    <tr>\n      <th>34</th>\n      <td>Akesson's (Pralus)</td>\n      <td>2010</td>\n      <td>0.75</td>\n      <td>Switzerland</td>\n      <td>2.75</td>\n    </tr>\n    <tr>\n      <th>36</th>\n      <td>Alain Ducasse</td>\n      <td>2014</td>\n      <td>0.75</td>\n      <td>France</td>\n      <td>2.75</td>\n    </tr>\n    <tr>\n      <th>38</th>\n      <td>Alain Ducasse</td>\n      <td>2013</td>\n      <td>0.75</td>\n      <td>France</td>\n      <td>2.50</td>\n    </tr>\n    <tr>\n      <th>39</th>\n      <td>Alain Ducasse</td>\n      <td>2013</td>\n      <td>0.75</td>\n      <td>France</td>\n      <td>2.50</td>\n    </tr>\n  </tbody>\n</table>\n</div>"
     },
     "metadata": {},
     "execution_count": 25
    }
   ],
   "source": [
    "df['Cocoa Percent'] = df['Cocoa Percent'].apply(lambda x:float(x[:-1])/100)\n",
    "df.query('(Rating<3)&(`Cocoa Percent`>`Cocoa Percent`.median())').head()"
   ]
  },
  {
   "source": [
    "3. 将`Review Date`和`Company Location`设为索引后，选出`Review Date`在2012年之后且`Company Location`不属于`France, Canada, Amsterdam, Belgium`的样本。"
   ],
   "cell_type": "markdown",
   "metadata": {}
  },
  {
   "cell_type": "code",
   "execution_count": 27,
   "metadata": {},
   "outputs": [
    {
     "output_type": "execute_result",
     "data": {
      "text/plain": [
       "                                  Company  Cocoa Percent  Rating\n",
       "Review Date Company Location                                    \n",
       "2012        Australia         Bahen & Co.           0.70    3.00\n",
       "            Australia         Bahen & Co.           0.70    2.50\n",
       "            Australia         Bahen & Co.           0.70    2.50\n",
       "            Australia              Cravve           0.75    3.25\n",
       "            Australia              Cravve           0.65    3.25"
      ],
      "text/html": "<div>\n<style scoped>\n    .dataframe tbody tr th:only-of-type {\n        vertical-align: middle;\n    }\n\n    .dataframe tbody tr th {\n        vertical-align: top;\n    }\n\n    .dataframe thead th {\n        text-align: right;\n    }\n</style>\n<table border=\"1\" class=\"dataframe\">\n  <thead>\n    <tr style=\"text-align: right;\">\n      <th></th>\n      <th></th>\n      <th>Company</th>\n      <th>Cocoa Percent</th>\n      <th>Rating</th>\n    </tr>\n    <tr>\n      <th>Review Date</th>\n      <th>Company Location</th>\n      <th></th>\n      <th></th>\n      <th></th>\n    </tr>\n  </thead>\n  <tbody>\n    <tr>\n      <th rowspan=\"5\" valign=\"top\">2012</th>\n      <th>Australia</th>\n      <td>Bahen &amp; Co.</td>\n      <td>0.70</td>\n      <td>3.00</td>\n    </tr>\n    <tr>\n      <th>Australia</th>\n      <td>Bahen &amp; Co.</td>\n      <td>0.70</td>\n      <td>2.50</td>\n    </tr>\n    <tr>\n      <th>Australia</th>\n      <td>Bahen &amp; Co.</td>\n      <td>0.70</td>\n      <td>2.50</td>\n    </tr>\n    <tr>\n      <th>Australia</th>\n      <td>Cravve</td>\n      <td>0.75</td>\n      <td>3.25</td>\n    </tr>\n    <tr>\n      <th>Australia</th>\n      <td>Cravve</td>\n      <td>0.65</td>\n      <td>3.25</td>\n    </tr>\n  </tbody>\n</table>\n</div>"
     },
     "metadata": {},
     "execution_count": 27
    }
   ],
   "source": [
    "idx = pd.IndexSlice\n",
    "exclude = ['France', 'Canada', 'Amsterdam', 'Belgium']\n",
    "res = df.set_index(['Review Date', 'Company Location']).sort_index(level=0)\n",
    "res.loc[idx[2012:,~res.index.get_level_values(1).isin(exclude)],:].head()"
   ]
  },
  {
   "cell_type": "code",
   "execution_count": null,
   "metadata": {},
   "outputs": [],
   "source": []
  }
 ]
}