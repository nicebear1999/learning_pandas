{
 "metadata": {
  "language_info": {
   "codemirror_mode": {
    "name": "ipython",
    "version": 3
   },
   "file_extension": ".py",
   "mimetype": "text/x-python",
   "name": "python",
   "nbconvert_exporter": "python",
   "pygments_lexer": "ipython3",
   "version": "3.7.9-final"
  },
  "orig_nbformat": 2,
  "kernelspec": {
   "name": "python3",
   "display_name": "Python 3",
   "language": "python"
  }
 },
 "nbformat": 4,
 "nbformat_minor": 2,
 "cells": [
  {
   "cell_type": "code",
   "execution_count": 2,
   "metadata": {},
   "outputs": [],
   "source": [
    "import pandas as pd"
   ]
  },
  {
   "source": [
    "### Ex1：公司员工数据集\n",
    "现有一份公司员工数据集："
   ],
   "cell_type": "markdown",
   "metadata": {}
  },
  {
   "cell_type": "code",
   "execution_count": 40,
   "metadata": {},
   "outputs": [
    {
     "output_type": "execute_result",
     "data": {
      "text/plain": [
       "   EmployeeID birthdate_key  age  city_name department      job_title gender\n",
       "0        1318      1/3/1954   61  Vancouver  Executive            CEO      M\n",
       "1        1319      1/3/1957   58  Vancouver  Executive      VP Stores      F\n",
       "2        1320      1/2/1955   60  Vancouver  Executive  Legal Counsel      F"
      ],
      "text/html": "<div>\n<style scoped>\n    .dataframe tbody tr th:only-of-type {\n        vertical-align: middle;\n    }\n\n    .dataframe tbody tr th {\n        vertical-align: top;\n    }\n\n    .dataframe thead th {\n        text-align: right;\n    }\n</style>\n<table border=\"1\" class=\"dataframe\">\n  <thead>\n    <tr style=\"text-align: right;\">\n      <th></th>\n      <th>EmployeeID</th>\n      <th>birthdate_key</th>\n      <th>age</th>\n      <th>city_name</th>\n      <th>department</th>\n      <th>job_title</th>\n      <th>gender</th>\n    </tr>\n  </thead>\n  <tbody>\n    <tr>\n      <th>0</th>\n      <td>1318</td>\n      <td>1/3/1954</td>\n      <td>61</td>\n      <td>Vancouver</td>\n      <td>Executive</td>\n      <td>CEO</td>\n      <td>M</td>\n    </tr>\n    <tr>\n      <th>1</th>\n      <td>1319</td>\n      <td>1/3/1957</td>\n      <td>58</td>\n      <td>Vancouver</td>\n      <td>Executive</td>\n      <td>VP Stores</td>\n      <td>F</td>\n    </tr>\n    <tr>\n      <th>2</th>\n      <td>1320</td>\n      <td>1/2/1955</td>\n      <td>60</td>\n      <td>Vancouver</td>\n      <td>Executive</td>\n      <td>Legal Counsel</td>\n      <td>F</td>\n    </tr>\n  </tbody>\n</table>\n</div>"
     },
     "metadata": {},
     "execution_count": 40
    }
   ],
   "source": [
    "df = pd.read_csv('./data/company.csv')\n",
    "df.head(3)"
   ]
  },
  {
   "source": [
    "1. 分别只使用`query`和`loc`选出年龄不超过四十岁且工作部门为`Dairy`或`Bakery`的男性。"
   ],
   "cell_type": "markdown",
   "metadata": {}
  },
  {
   "cell_type": "code",
   "execution_count": 41,
   "metadata": {},
   "outputs": [
    {
     "output_type": "execute_result",
     "data": {
      "text/plain": [
       "      EmployeeID birthdate_key  age city_name department     job_title gender\n",
       "3611        5791     1/14/1975   40   Kelowna      Dairy  Dairy Person      M\n",
       "3613        5793     1/22/1975   40  Richmond     Bakery         Baker      M\n",
       "3615        5795     1/30/1975   40   Nanaimo      Dairy  Dairy Person      M\n",
       "3617        5797      2/3/1975   40   Nanaimo      Dairy  Dairy Person      M\n",
       "3618        5798      2/4/1975   40    Surrey      Dairy  Dairy Person      M"
      ],
      "text/html": "<div>\n<style scoped>\n    .dataframe tbody tr th:only-of-type {\n        vertical-align: middle;\n    }\n\n    .dataframe tbody tr th {\n        vertical-align: top;\n    }\n\n    .dataframe thead th {\n        text-align: right;\n    }\n</style>\n<table border=\"1\" class=\"dataframe\">\n  <thead>\n    <tr style=\"text-align: right;\">\n      <th></th>\n      <th>EmployeeID</th>\n      <th>birthdate_key</th>\n      <th>age</th>\n      <th>city_name</th>\n      <th>department</th>\n      <th>job_title</th>\n      <th>gender</th>\n    </tr>\n  </thead>\n  <tbody>\n    <tr>\n      <th>3611</th>\n      <td>5791</td>\n      <td>1/14/1975</td>\n      <td>40</td>\n      <td>Kelowna</td>\n      <td>Dairy</td>\n      <td>Dairy Person</td>\n      <td>M</td>\n    </tr>\n    <tr>\n      <th>3613</th>\n      <td>5793</td>\n      <td>1/22/1975</td>\n      <td>40</td>\n      <td>Richmond</td>\n      <td>Bakery</td>\n      <td>Baker</td>\n      <td>M</td>\n    </tr>\n    <tr>\n      <th>3615</th>\n      <td>5795</td>\n      <td>1/30/1975</td>\n      <td>40</td>\n      <td>Nanaimo</td>\n      <td>Dairy</td>\n      <td>Dairy Person</td>\n      <td>M</td>\n    </tr>\n    <tr>\n      <th>3617</th>\n      <td>5797</td>\n      <td>2/3/1975</td>\n      <td>40</td>\n      <td>Nanaimo</td>\n      <td>Dairy</td>\n      <td>Dairy Person</td>\n      <td>M</td>\n    </tr>\n    <tr>\n      <th>3618</th>\n      <td>5798</td>\n      <td>2/4/1975</td>\n      <td>40</td>\n      <td>Surrey</td>\n      <td>Dairy</td>\n      <td>Dairy Person</td>\n      <td>M</td>\n    </tr>\n  </tbody>\n</table>\n</div>"
     },
     "metadata": {},
     "execution_count": 41
    }
   ],
   "source": [
    "# df.query(\"age<=40 & (department == ['Dairy','Bakery']) & gender=='M'\").head()\n",
    "df.query(\"age<=40 & department in ['Dairy','Bakery'] & gender=='M'\").head()"
   ]
  },
  {
   "cell_type": "code",
   "execution_count": 42,
   "metadata": {},
   "outputs": [
    {
     "output_type": "execute_result",
     "data": {
      "text/plain": [
       "      EmployeeID birthdate_key  age city_name department     job_title gender\n",
       "3611        5791     1/14/1975   40   Kelowna      Dairy  Dairy Person      M\n",
       "3613        5793     1/22/1975   40  Richmond     Bakery         Baker      M\n",
       "3615        5795     1/30/1975   40   Nanaimo      Dairy  Dairy Person      M\n",
       "3617        5797      2/3/1975   40   Nanaimo      Dairy  Dairy Person      M\n",
       "3618        5798      2/4/1975   40    Surrey      Dairy  Dairy Person      M"
      ],
      "text/html": "<div>\n<style scoped>\n    .dataframe tbody tr th:only-of-type {\n        vertical-align: middle;\n    }\n\n    .dataframe tbody tr th {\n        vertical-align: top;\n    }\n\n    .dataframe thead th {\n        text-align: right;\n    }\n</style>\n<table border=\"1\" class=\"dataframe\">\n  <thead>\n    <tr style=\"text-align: right;\">\n      <th></th>\n      <th>EmployeeID</th>\n      <th>birthdate_key</th>\n      <th>age</th>\n      <th>city_name</th>\n      <th>department</th>\n      <th>job_title</th>\n      <th>gender</th>\n    </tr>\n  </thead>\n  <tbody>\n    <tr>\n      <th>3611</th>\n      <td>5791</td>\n      <td>1/14/1975</td>\n      <td>40</td>\n      <td>Kelowna</td>\n      <td>Dairy</td>\n      <td>Dairy Person</td>\n      <td>M</td>\n    </tr>\n    <tr>\n      <th>3613</th>\n      <td>5793</td>\n      <td>1/22/1975</td>\n      <td>40</td>\n      <td>Richmond</td>\n      <td>Bakery</td>\n      <td>Baker</td>\n      <td>M</td>\n    </tr>\n    <tr>\n      <th>3615</th>\n      <td>5795</td>\n      <td>1/30/1975</td>\n      <td>40</td>\n      <td>Nanaimo</td>\n      <td>Dairy</td>\n      <td>Dairy Person</td>\n      <td>M</td>\n    </tr>\n    <tr>\n      <th>3617</th>\n      <td>5797</td>\n      <td>2/3/1975</td>\n      <td>40</td>\n      <td>Nanaimo</td>\n      <td>Dairy</td>\n      <td>Dairy Person</td>\n      <td>M</td>\n    </tr>\n    <tr>\n      <th>3618</th>\n      <td>5798</td>\n      <td>2/4/1975</td>\n      <td>40</td>\n      <td>Surrey</td>\n      <td>Dairy</td>\n      <td>Dairy Person</td>\n      <td>M</td>\n    </tr>\n  </tbody>\n</table>\n</div>"
     },
     "metadata": {},
     "execution_count": 42
    }
   ],
   "source": [
    "df.loc[(df.age<=40) & (df.department.isin(['Dairy','Bakery'])) & (df.gender=='M')].head()"
   ]
  },
  {
   "source": [
    "2. 选出员工`ID`号 为奇数所在行的第1、第3和倒数第2列。"
   ],
   "cell_type": "markdown",
   "metadata": {}
  },
  {
   "cell_type": "code",
   "execution_count": 43,
   "metadata": {},
   "outputs": [
    {
     "output_type": "execute_result",
     "data": {
      "text/plain": [
       "      EmployeeID  age                      job_title\n",
       "1           1319   58                      VP Stores\n",
       "3           1321   56             VP Human Resources\n",
       "5           1323   53      Exec Assistant, VP Stores\n",
       "6           1325   51  Exec Assistant, Legal Counsel\n",
       "8           1329   48                  Store Manager\n",
       "...          ...  ...                            ...\n",
       "6276        7659   26                        Cashier\n",
       "6277        7741   25                        Cashier\n",
       "6278        7801   25                   Dairy Person\n",
       "6280        8181   22                        Cashier\n",
       "6281        8223   21                        Cashier\n",
       "\n",
       "[3126 rows x 3 columns]"
      ],
      "text/html": "<div>\n<style scoped>\n    .dataframe tbody tr th:only-of-type {\n        vertical-align: middle;\n    }\n\n    .dataframe tbody tr th {\n        vertical-align: top;\n    }\n\n    .dataframe thead th {\n        text-align: right;\n    }\n</style>\n<table border=\"1\" class=\"dataframe\">\n  <thead>\n    <tr style=\"text-align: right;\">\n      <th></th>\n      <th>EmployeeID</th>\n      <th>age</th>\n      <th>job_title</th>\n    </tr>\n  </thead>\n  <tbody>\n    <tr>\n      <th>1</th>\n      <td>1319</td>\n      <td>58</td>\n      <td>VP Stores</td>\n    </tr>\n    <tr>\n      <th>3</th>\n      <td>1321</td>\n      <td>56</td>\n      <td>VP Human Resources</td>\n    </tr>\n    <tr>\n      <th>5</th>\n      <td>1323</td>\n      <td>53</td>\n      <td>Exec Assistant, VP Stores</td>\n    </tr>\n    <tr>\n      <th>6</th>\n      <td>1325</td>\n      <td>51</td>\n      <td>Exec Assistant, Legal Counsel</td>\n    </tr>\n    <tr>\n      <th>8</th>\n      <td>1329</td>\n      <td>48</td>\n      <td>Store Manager</td>\n    </tr>\n    <tr>\n      <th>...</th>\n      <td>...</td>\n      <td>...</td>\n      <td>...</td>\n    </tr>\n    <tr>\n      <th>6276</th>\n      <td>7659</td>\n      <td>26</td>\n      <td>Cashier</td>\n    </tr>\n    <tr>\n      <th>6277</th>\n      <td>7741</td>\n      <td>25</td>\n      <td>Cashier</td>\n    </tr>\n    <tr>\n      <th>6278</th>\n      <td>7801</td>\n      <td>25</td>\n      <td>Dairy Person</td>\n    </tr>\n    <tr>\n      <th>6280</th>\n      <td>8181</td>\n      <td>22</td>\n      <td>Cashier</td>\n    </tr>\n    <tr>\n      <th>6281</th>\n      <td>8223</td>\n      <td>21</td>\n      <td>Cashier</td>\n    </tr>\n  </tbody>\n</table>\n<p>3126 rows × 3 columns</p>\n</div>"
     },
     "metadata": {},
     "execution_count": 43
    }
   ],
   "source": [
    "sum(df.duplicated('EmployeeID',keep=False))\n",
    "df.iloc[(df.EmployeeID%2!=0).values, [0,2,-2]]"
   ]
  },
  {
   "source": [
    "3. 按照以下步骤进行索引操作：\n",
    "\n",
    "* 把后三列设为索引后交换内外两层\n",
    "* 恢复中间一层\n",
    "* 修改外层索引名为`Gender`\n",
    "* 用下划线合并两层行索引\n",
    "* 把行索引拆分为原状态\n",
    "* 修改索引名为原表名称\n",
    "* 恢复默认索引并将列保持为原表的相对位置"
   ],
   "cell_type": "markdown",
   "metadata": {}
  },
  {
   "cell_type": "code",
   "execution_count": 44,
   "metadata": {},
   "outputs": [
    {
     "output_type": "execute_result",
     "data": {
      "text/plain": [
       "                                 EmployeeID birthdate_key  age  city_name\n",
       "gender job_title     department                                          \n",
       "M      CEO           Executive         1318      1/3/1954   61  Vancouver\n",
       "F      VP Stores     Executive         1319      1/3/1957   58  Vancouver\n",
       "       Legal Counsel Executive         1320      1/2/1955   60  Vancouver"
      ],
      "text/html": "<div>\n<style scoped>\n    .dataframe tbody tr th:only-of-type {\n        vertical-align: middle;\n    }\n\n    .dataframe tbody tr th {\n        vertical-align: top;\n    }\n\n    .dataframe thead th {\n        text-align: right;\n    }\n</style>\n<table border=\"1\" class=\"dataframe\">\n  <thead>\n    <tr style=\"text-align: right;\">\n      <th></th>\n      <th></th>\n      <th></th>\n      <th>EmployeeID</th>\n      <th>birthdate_key</th>\n      <th>age</th>\n      <th>city_name</th>\n    </tr>\n    <tr>\n      <th>gender</th>\n      <th>job_title</th>\n      <th>department</th>\n      <th></th>\n      <th></th>\n      <th></th>\n      <th></th>\n    </tr>\n  </thead>\n  <tbody>\n    <tr>\n      <th>M</th>\n      <th>CEO</th>\n      <th>Executive</th>\n      <td>1318</td>\n      <td>1/3/1954</td>\n      <td>61</td>\n      <td>Vancouver</td>\n    </tr>\n    <tr>\n      <th rowspan=\"2\" valign=\"top\">F</th>\n      <th>VP Stores</th>\n      <th>Executive</th>\n      <td>1319</td>\n      <td>1/3/1957</td>\n      <td>58</td>\n      <td>Vancouver</td>\n    </tr>\n    <tr>\n      <th>Legal Counsel</th>\n      <th>Executive</th>\n      <td>1320</td>\n      <td>1/2/1955</td>\n      <td>60</td>\n      <td>Vancouver</td>\n    </tr>\n  </tbody>\n</table>\n</div>"
     },
     "metadata": {},
     "execution_count": 44
    }
   ],
   "source": [
    "df_new=df.set_index(list(df.columns[-3:])).swaplevel(0,2,axis=0)\n",
    "df_new.head(3)"
   ]
  },
  {
   "cell_type": "code",
   "execution_count": 47,
   "metadata": {},
   "outputs": [
    {
     "output_type": "execute_result",
     "data": {
      "text/plain": [
       "                       job_title  EmployeeID birthdate_key  age  city_name\n",
       "Gender department                                                         \n",
       "M      Executive             CEO        1318      1/3/1954   61  Vancouver\n",
       "F      Executive       VP Stores        1319      1/3/1957   58  Vancouver\n",
       "       Executive   Legal Counsel        1320      1/2/1955   60  Vancouver"
      ],
      "text/html": "<div>\n<style scoped>\n    .dataframe tbody tr th:only-of-type {\n        vertical-align: middle;\n    }\n\n    .dataframe tbody tr th {\n        vertical-align: top;\n    }\n\n    .dataframe thead th {\n        text-align: right;\n    }\n</style>\n<table border=\"1\" class=\"dataframe\">\n  <thead>\n    <tr style=\"text-align: right;\">\n      <th></th>\n      <th></th>\n      <th>job_title</th>\n      <th>EmployeeID</th>\n      <th>birthdate_key</th>\n      <th>age</th>\n      <th>city_name</th>\n    </tr>\n    <tr>\n      <th>Gender</th>\n      <th>department</th>\n      <th></th>\n      <th></th>\n      <th></th>\n      <th></th>\n      <th></th>\n    </tr>\n  </thead>\n  <tbody>\n    <tr>\n      <th>M</th>\n      <th>Executive</th>\n      <td>CEO</td>\n      <td>1318</td>\n      <td>1/3/1954</td>\n      <td>61</td>\n      <td>Vancouver</td>\n    </tr>\n    <tr>\n      <th rowspan=\"2\" valign=\"top\">F</th>\n      <th>Executive</th>\n      <td>VP Stores</td>\n      <td>1319</td>\n      <td>1/3/1957</td>\n      <td>58</td>\n      <td>Vancouver</td>\n    </tr>\n    <tr>\n      <th>Executive</th>\n      <td>Legal Counsel</td>\n      <td>1320</td>\n      <td>1/2/1955</td>\n      <td>60</td>\n      <td>Vancouver</td>\n    </tr>\n  </tbody>\n</table>\n</div>"
     },
     "metadata": {},
     "execution_count": 47
    }
   ],
   "source": [
    "df_new=df_new.reset_index(['job_title'])\n",
    "df_new.head(3)"
   ]
  },
  {
   "cell_type": "code",
   "execution_count": 48,
   "metadata": {},
   "outputs": [
    {
     "output_type": "execute_result",
     "data": {
      "text/plain": [
       "                            job_title  EmployeeID birthdate_key  age  \\\n",
       "Gender department                                                      \n",
       "M      Executive                  CEO        1318      1/3/1954   61   \n",
       "F      Executive            VP Stores        1319      1/3/1957   58   \n",
       "       Executive        Legal Counsel        1320      1/2/1955   60   \n",
       "M      Executive   VP Human Resources        1321      1/2/1959   56   \n",
       "       Executive           VP Finance        1322      1/9/1958   57   \n",
       "\n",
       "                   city_name  \n",
       "Gender department             \n",
       "M      Executive   Vancouver  \n",
       "F      Executive   Vancouver  \n",
       "       Executive   Vancouver  \n",
       "M      Executive   Vancouver  \n",
       "       Executive   Vancouver  "
      ],
      "text/html": "<div>\n<style scoped>\n    .dataframe tbody tr th:only-of-type {\n        vertical-align: middle;\n    }\n\n    .dataframe tbody tr th {\n        vertical-align: top;\n    }\n\n    .dataframe thead th {\n        text-align: right;\n    }\n</style>\n<table border=\"1\" class=\"dataframe\">\n  <thead>\n    <tr style=\"text-align: right;\">\n      <th></th>\n      <th></th>\n      <th>job_title</th>\n      <th>EmployeeID</th>\n      <th>birthdate_key</th>\n      <th>age</th>\n      <th>city_name</th>\n    </tr>\n    <tr>\n      <th>Gender</th>\n      <th>department</th>\n      <th></th>\n      <th></th>\n      <th></th>\n      <th></th>\n      <th></th>\n    </tr>\n  </thead>\n  <tbody>\n    <tr>\n      <th>M</th>\n      <th>Executive</th>\n      <td>CEO</td>\n      <td>1318</td>\n      <td>1/3/1954</td>\n      <td>61</td>\n      <td>Vancouver</td>\n    </tr>\n    <tr>\n      <th rowspan=\"2\" valign=\"top\">F</th>\n      <th>Executive</th>\n      <td>VP Stores</td>\n      <td>1319</td>\n      <td>1/3/1957</td>\n      <td>58</td>\n      <td>Vancouver</td>\n    </tr>\n    <tr>\n      <th>Executive</th>\n      <td>Legal Counsel</td>\n      <td>1320</td>\n      <td>1/2/1955</td>\n      <td>60</td>\n      <td>Vancouver</td>\n    </tr>\n    <tr>\n      <th rowspan=\"2\" valign=\"top\">M</th>\n      <th>Executive</th>\n      <td>VP Human Resources</td>\n      <td>1321</td>\n      <td>1/2/1959</td>\n      <td>56</td>\n      <td>Vancouver</td>\n    </tr>\n    <tr>\n      <th>Executive</th>\n      <td>VP Finance</td>\n      <td>1322</td>\n      <td>1/9/1958</td>\n      <td>57</td>\n      <td>Vancouver</td>\n    </tr>\n  </tbody>\n</table>\n</div>"
     },
     "metadata": {},
     "execution_count": 48
    }
   ],
   "source": [
    "df_new=df_new.rename_axis(index={'gender':'Gender'})\n",
    "df_new.head()"
   ]
  },
  {
   "cell_type": "code",
   "execution_count": 49,
   "metadata": {},
   "outputs": [
    {
     "output_type": "execute_result",
     "data": {
      "text/plain": [
       "                             job_title  EmployeeID birthdate_key  age  \\\n",
       "M-Executive                        CEO        1318      1/3/1954   61   \n",
       "F-Executive                  VP Stores        1319      1/3/1957   58   \n",
       "F-Executive              Legal Counsel        1320      1/2/1955   60   \n",
       "M-Executive         VP Human Resources        1321      1/2/1959   56   \n",
       "M-Executive                 VP Finance        1322      1/9/1958   57   \n",
       "...                                ...         ...           ...  ...   \n",
       "F-Customer Service             Cashier        8036      8/9/1992   23   \n",
       "M-Customer Service             Cashier        8181     9/26/1993   22   \n",
       "M-Customer Service             Cashier        8223     2/11/1994   21   \n",
       "F-Customer Service             Cashier        8226     2/16/1994   21   \n",
       "F-Customer Service             Cashier        8264     6/13/1994   21   \n",
       "\n",
       "                           city_name  \n",
       "M-Executive                Vancouver  \n",
       "F-Executive                Vancouver  \n",
       "F-Executive                Vancouver  \n",
       "M-Executive                Vancouver  \n",
       "M-Executive                Vancouver  \n",
       "...                              ...  \n",
       "F-Customer Service  New Westminister  \n",
       "M-Customer Service     Prince George  \n",
       "M-Customer Service             Trail  \n",
       "F-Customer Service          Victoria  \n",
       "F-Customer Service         Vancouver  \n",
       "\n",
       "[6284 rows x 5 columns]"
      ],
      "text/html": "<div>\n<style scoped>\n    .dataframe tbody tr th:only-of-type {\n        vertical-align: middle;\n    }\n\n    .dataframe tbody tr th {\n        vertical-align: top;\n    }\n\n    .dataframe thead th {\n        text-align: right;\n    }\n</style>\n<table border=\"1\" class=\"dataframe\">\n  <thead>\n    <tr style=\"text-align: right;\">\n      <th></th>\n      <th>job_title</th>\n      <th>EmployeeID</th>\n      <th>birthdate_key</th>\n      <th>age</th>\n      <th>city_name</th>\n    </tr>\n  </thead>\n  <tbody>\n    <tr>\n      <th>M-Executive</th>\n      <td>CEO</td>\n      <td>1318</td>\n      <td>1/3/1954</td>\n      <td>61</td>\n      <td>Vancouver</td>\n    </tr>\n    <tr>\n      <th>F-Executive</th>\n      <td>VP Stores</td>\n      <td>1319</td>\n      <td>1/3/1957</td>\n      <td>58</td>\n      <td>Vancouver</td>\n    </tr>\n    <tr>\n      <th>F-Executive</th>\n      <td>Legal Counsel</td>\n      <td>1320</td>\n      <td>1/2/1955</td>\n      <td>60</td>\n      <td>Vancouver</td>\n    </tr>\n    <tr>\n      <th>M-Executive</th>\n      <td>VP Human Resources</td>\n      <td>1321</td>\n      <td>1/2/1959</td>\n      <td>56</td>\n      <td>Vancouver</td>\n    </tr>\n    <tr>\n      <th>M-Executive</th>\n      <td>VP Finance</td>\n      <td>1322</td>\n      <td>1/9/1958</td>\n      <td>57</td>\n      <td>Vancouver</td>\n    </tr>\n    <tr>\n      <th>...</th>\n      <td>...</td>\n      <td>...</td>\n      <td>...</td>\n      <td>...</td>\n      <td>...</td>\n    </tr>\n    <tr>\n      <th>F-Customer Service</th>\n      <td>Cashier</td>\n      <td>8036</td>\n      <td>8/9/1992</td>\n      <td>23</td>\n      <td>New Westminister</td>\n    </tr>\n    <tr>\n      <th>M-Customer Service</th>\n      <td>Cashier</td>\n      <td>8181</td>\n      <td>9/26/1993</td>\n      <td>22</td>\n      <td>Prince George</td>\n    </tr>\n    <tr>\n      <th>M-Customer Service</th>\n      <td>Cashier</td>\n      <td>8223</td>\n      <td>2/11/1994</td>\n      <td>21</td>\n      <td>Trail</td>\n    </tr>\n    <tr>\n      <th>F-Customer Service</th>\n      <td>Cashier</td>\n      <td>8226</td>\n      <td>2/16/1994</td>\n      <td>21</td>\n      <td>Victoria</td>\n    </tr>\n    <tr>\n      <th>F-Customer Service</th>\n      <td>Cashier</td>\n      <td>8264</td>\n      <td>6/13/1994</td>\n      <td>21</td>\n      <td>Vancouver</td>\n    </tr>\n  </tbody>\n</table>\n<p>6284 rows × 5 columns</p>\n</div>"
     },
     "metadata": {},
     "execution_count": 49
    }
   ],
   "source": [
    "df_new.index=df_new.index.map(lambda x:(x[0]+'-'+x[1]))\n",
    "df_new"
   ]
  },
  {
   "cell_type": "code",
   "execution_count": 55,
   "metadata": {},
   "outputs": [
    {
     "output_type": "execute_result",
     "data": {
      "text/plain": [
       "                             job_title  EmployeeID birthdate_key  age  \\\n",
       "M Executive                        CEO        1318      1/3/1954   61   \n",
       "F Executive                  VP Stores        1319      1/3/1957   58   \n",
       "  Executive              Legal Counsel        1320      1/2/1955   60   \n",
       "M Executive         VP Human Resources        1321      1/2/1959   56   \n",
       "  Executive                 VP Finance        1322      1/9/1958   57   \n",
       "...                                ...         ...           ...  ...   \n",
       "F Customer Service             Cashier        8036      8/9/1992   23   \n",
       "M Customer Service             Cashier        8181     9/26/1993   22   \n",
       "  Customer Service             Cashier        8223     2/11/1994   21   \n",
       "F Customer Service             Cashier        8226     2/16/1994   21   \n",
       "  Customer Service             Cashier        8264     6/13/1994   21   \n",
       "\n",
       "                           city_name  \n",
       "M Executive                Vancouver  \n",
       "F Executive                Vancouver  \n",
       "  Executive                Vancouver  \n",
       "M Executive                Vancouver  \n",
       "  Executive                Vancouver  \n",
       "...                              ...  \n",
       "F Customer Service  New Westminister  \n",
       "M Customer Service     Prince George  \n",
       "  Customer Service             Trail  \n",
       "F Customer Service          Victoria  \n",
       "  Customer Service         Vancouver  \n",
       "\n",
       "[6284 rows x 5 columns]"
      ],
      "text/html": "<div>\n<style scoped>\n    .dataframe tbody tr th:only-of-type {\n        vertical-align: middle;\n    }\n\n    .dataframe tbody tr th {\n        vertical-align: top;\n    }\n\n    .dataframe thead th {\n        text-align: right;\n    }\n</style>\n<table border=\"1\" class=\"dataframe\">\n  <thead>\n    <tr style=\"text-align: right;\">\n      <th></th>\n      <th></th>\n      <th>job_title</th>\n      <th>EmployeeID</th>\n      <th>birthdate_key</th>\n      <th>age</th>\n      <th>city_name</th>\n    </tr>\n  </thead>\n  <tbody>\n    <tr>\n      <th>M</th>\n      <th>Executive</th>\n      <td>CEO</td>\n      <td>1318</td>\n      <td>1/3/1954</td>\n      <td>61</td>\n      <td>Vancouver</td>\n    </tr>\n    <tr>\n      <th rowspan=\"2\" valign=\"top\">F</th>\n      <th>Executive</th>\n      <td>VP Stores</td>\n      <td>1319</td>\n      <td>1/3/1957</td>\n      <td>58</td>\n      <td>Vancouver</td>\n    </tr>\n    <tr>\n      <th>Executive</th>\n      <td>Legal Counsel</td>\n      <td>1320</td>\n      <td>1/2/1955</td>\n      <td>60</td>\n      <td>Vancouver</td>\n    </tr>\n    <tr>\n      <th rowspan=\"2\" valign=\"top\">M</th>\n      <th>Executive</th>\n      <td>VP Human Resources</td>\n      <td>1321</td>\n      <td>1/2/1959</td>\n      <td>56</td>\n      <td>Vancouver</td>\n    </tr>\n    <tr>\n      <th>Executive</th>\n      <td>VP Finance</td>\n      <td>1322</td>\n      <td>1/9/1958</td>\n      <td>57</td>\n      <td>Vancouver</td>\n    </tr>\n    <tr>\n      <th>...</th>\n      <th>...</th>\n      <td>...</td>\n      <td>...</td>\n      <td>...</td>\n      <td>...</td>\n      <td>...</td>\n    </tr>\n    <tr>\n      <th>F</th>\n      <th>Customer Service</th>\n      <td>Cashier</td>\n      <td>8036</td>\n      <td>8/9/1992</td>\n      <td>23</td>\n      <td>New Westminister</td>\n    </tr>\n    <tr>\n      <th rowspan=\"2\" valign=\"top\">M</th>\n      <th>Customer Service</th>\n      <td>Cashier</td>\n      <td>8181</td>\n      <td>9/26/1993</td>\n      <td>22</td>\n      <td>Prince George</td>\n    </tr>\n    <tr>\n      <th>Customer Service</th>\n      <td>Cashier</td>\n      <td>8223</td>\n      <td>2/11/1994</td>\n      <td>21</td>\n      <td>Trail</td>\n    </tr>\n    <tr>\n      <th rowspan=\"2\" valign=\"top\">F</th>\n      <th>Customer Service</th>\n      <td>Cashier</td>\n      <td>8226</td>\n      <td>2/16/1994</td>\n      <td>21</td>\n      <td>Victoria</td>\n    </tr>\n    <tr>\n      <th>Customer Service</th>\n      <td>Cashier</td>\n      <td>8264</td>\n      <td>6/13/1994</td>\n      <td>21</td>\n      <td>Vancouver</td>\n    </tr>\n  </tbody>\n</table>\n<p>6284 rows × 5 columns</p>\n</div>"
     },
     "metadata": {},
     "execution_count": 55
    }
   ],
   "source": [
    "df_new.index=df_new.index.map(lambda x:tuple(x.split('-')))\n",
    "df_new\n"
   ]
  },
  {
   "cell_type": "code",
   "execution_count": 59,
   "metadata": {},
   "outputs": [
    {
     "output_type": "execute_result",
     "data": {
      "text/plain": [
       "      EmployeeID birthdate_key  age         city_name        department  \\\n",
       "0           1318      1/3/1954   61         Vancouver         Executive   \n",
       "1           1319      1/3/1957   58         Vancouver         Executive   \n",
       "2           1320      1/2/1955   60         Vancouver         Executive   \n",
       "3           1321      1/2/1959   56         Vancouver         Executive   \n",
       "4           1322      1/9/1958   57         Vancouver         Executive   \n",
       "...          ...           ...  ...               ...               ...   \n",
       "6279        8036      8/9/1992   23  New Westminister  Customer Service   \n",
       "6280        8181     9/26/1993   22     Prince George  Customer Service   \n",
       "6281        8223     2/11/1994   21             Trail  Customer Service   \n",
       "6282        8226     2/16/1994   21          Victoria  Customer Service   \n",
       "6283        8264     6/13/1994   21         Vancouver  Customer Service   \n",
       "\n",
       "               job_title gender  \n",
       "0                    CEO      M  \n",
       "1              VP Stores      F  \n",
       "2          Legal Counsel      F  \n",
       "3     VP Human Resources      M  \n",
       "4             VP Finance      M  \n",
       "...                  ...    ...  \n",
       "6279             Cashier      F  \n",
       "6280             Cashier      M  \n",
       "6281             Cashier      M  \n",
       "6282             Cashier      F  \n",
       "6283             Cashier      F  \n",
       "\n",
       "[6284 rows x 7 columns]"
      ],
      "text/html": "<div>\n<style scoped>\n    .dataframe tbody tr th:only-of-type {\n        vertical-align: middle;\n    }\n\n    .dataframe tbody tr th {\n        vertical-align: top;\n    }\n\n    .dataframe thead th {\n        text-align: right;\n    }\n</style>\n<table border=\"1\" class=\"dataframe\">\n  <thead>\n    <tr style=\"text-align: right;\">\n      <th></th>\n      <th>EmployeeID</th>\n      <th>birthdate_key</th>\n      <th>age</th>\n      <th>city_name</th>\n      <th>department</th>\n      <th>job_title</th>\n      <th>gender</th>\n    </tr>\n  </thead>\n  <tbody>\n    <tr>\n      <th>0</th>\n      <td>1318</td>\n      <td>1/3/1954</td>\n      <td>61</td>\n      <td>Vancouver</td>\n      <td>Executive</td>\n      <td>CEO</td>\n      <td>M</td>\n    </tr>\n    <tr>\n      <th>1</th>\n      <td>1319</td>\n      <td>1/3/1957</td>\n      <td>58</td>\n      <td>Vancouver</td>\n      <td>Executive</td>\n      <td>VP Stores</td>\n      <td>F</td>\n    </tr>\n    <tr>\n      <th>2</th>\n      <td>1320</td>\n      <td>1/2/1955</td>\n      <td>60</td>\n      <td>Vancouver</td>\n      <td>Executive</td>\n      <td>Legal Counsel</td>\n      <td>F</td>\n    </tr>\n    <tr>\n      <th>3</th>\n      <td>1321</td>\n      <td>1/2/1959</td>\n      <td>56</td>\n      <td>Vancouver</td>\n      <td>Executive</td>\n      <td>VP Human Resources</td>\n      <td>M</td>\n    </tr>\n    <tr>\n      <th>4</th>\n      <td>1322</td>\n      <td>1/9/1958</td>\n      <td>57</td>\n      <td>Vancouver</td>\n      <td>Executive</td>\n      <td>VP Finance</td>\n      <td>M</td>\n    </tr>\n    <tr>\n      <th>...</th>\n      <td>...</td>\n      <td>...</td>\n      <td>...</td>\n      <td>...</td>\n      <td>...</td>\n      <td>...</td>\n      <td>...</td>\n    </tr>\n    <tr>\n      <th>6279</th>\n      <td>8036</td>\n      <td>8/9/1992</td>\n      <td>23</td>\n      <td>New Westminister</td>\n      <td>Customer Service</td>\n      <td>Cashier</td>\n      <td>F</td>\n    </tr>\n    <tr>\n      <th>6280</th>\n      <td>8181</td>\n      <td>9/26/1993</td>\n      <td>22</td>\n      <td>Prince George</td>\n      <td>Customer Service</td>\n      <td>Cashier</td>\n      <td>M</td>\n    </tr>\n    <tr>\n      <th>6281</th>\n      <td>8223</td>\n      <td>2/11/1994</td>\n      <td>21</td>\n      <td>Trail</td>\n      <td>Customer Service</td>\n      <td>Cashier</td>\n      <td>M</td>\n    </tr>\n    <tr>\n      <th>6282</th>\n      <td>8226</td>\n      <td>2/16/1994</td>\n      <td>21</td>\n      <td>Victoria</td>\n      <td>Customer Service</td>\n      <td>Cashier</td>\n      <td>F</td>\n    </tr>\n    <tr>\n      <th>6283</th>\n      <td>8264</td>\n      <td>6/13/1994</td>\n      <td>21</td>\n      <td>Vancouver</td>\n      <td>Customer Service</td>\n      <td>Cashier</td>\n      <td>F</td>\n    </tr>\n  </tbody>\n</table>\n<p>6284 rows × 7 columns</p>\n</div>"
     },
     "metadata": {},
     "execution_count": 59
    }
   ],
   "source": [
    "df_new=df_new.rename_axis(index=('gender', 'department'))\n",
    "df_new.reset_index().reindex(df.columns,axis=1)"
   ]
  },
  {
   "source": [
    "### Ex2：巧克力数据集\n",
    "现有一份关于巧克力评价的数据集："
   ],
   "cell_type": "markdown",
   "metadata": {}
  },
  {
   "cell_type": "code",
   "execution_count": 23,
   "metadata": {},
   "outputs": [
    {
     "output_type": "execute_result",
     "data": {
      "text/plain": [
       "    Company  Review\\nDate Cocoa\\nPercent Company\\nLocation  Rating\n",
       "0  A. Morin          2016            63%            France    3.75\n",
       "1  A. Morin          2015            70%            France    2.75\n",
       "2  A. Morin          2015            70%            France    3.00"
      ],
      "text/html": "<div>\n<style scoped>\n    .dataframe tbody tr th:only-of-type {\n        vertical-align: middle;\n    }\n\n    .dataframe tbody tr th {\n        vertical-align: top;\n    }\n\n    .dataframe thead th {\n        text-align: right;\n    }\n</style>\n<table border=\"1\" class=\"dataframe\">\n  <thead>\n    <tr style=\"text-align: right;\">\n      <th></th>\n      <th>Company</th>\n      <th>Review\\nDate</th>\n      <th>Cocoa\\nPercent</th>\n      <th>Company\\nLocation</th>\n      <th>Rating</th>\n    </tr>\n  </thead>\n  <tbody>\n    <tr>\n      <th>0</th>\n      <td>A. Morin</td>\n      <td>2016</td>\n      <td>63%</td>\n      <td>France</td>\n      <td>3.75</td>\n    </tr>\n    <tr>\n      <th>1</th>\n      <td>A. Morin</td>\n      <td>2015</td>\n      <td>70%</td>\n      <td>France</td>\n      <td>2.75</td>\n    </tr>\n    <tr>\n      <th>2</th>\n      <td>A. Morin</td>\n      <td>2015</td>\n      <td>70%</td>\n      <td>France</td>\n      <td>3.00</td>\n    </tr>\n  </tbody>\n</table>\n</div>"
     },
     "metadata": {},
     "execution_count": 23
    }
   ],
   "source": [
    "df = pd.read_csv('./data/chocolate.csv')\n",
    "df.head(3)"
   ]
  },
  {
   "source": [
    "1. 把列索引名中的`\\n`替换为空格。"
   ],
   "cell_type": "markdown",
   "metadata": {}
  },
  {
   "cell_type": "code",
   "execution_count": 24,
   "metadata": {},
   "outputs": [
    {
     "output_type": "execute_result",
     "data": {
      "text/plain": [
       "    Company  Review Date Cocoa Percent Company Location  Rating\n",
       "0  A. Morin         2016           63%           France    3.75\n",
       "1  A. Morin         2015           70%           France    2.75\n",
       "2  A. Morin         2015           70%           France    3.00\n",
       "3  A. Morin         2015           70%           France    3.50\n",
       "4  A. Morin         2015           70%           France    3.50"
      ],
      "text/html": "<div>\n<style scoped>\n    .dataframe tbody tr th:only-of-type {\n        vertical-align: middle;\n    }\n\n    .dataframe tbody tr th {\n        vertical-align: top;\n    }\n\n    .dataframe thead th {\n        text-align: right;\n    }\n</style>\n<table border=\"1\" class=\"dataframe\">\n  <thead>\n    <tr style=\"text-align: right;\">\n      <th></th>\n      <th>Company</th>\n      <th>Review Date</th>\n      <th>Cocoa Percent</th>\n      <th>Company Location</th>\n      <th>Rating</th>\n    </tr>\n  </thead>\n  <tbody>\n    <tr>\n      <th>0</th>\n      <td>A. Morin</td>\n      <td>2016</td>\n      <td>63%</td>\n      <td>France</td>\n      <td>3.75</td>\n    </tr>\n    <tr>\n      <th>1</th>\n      <td>A. Morin</td>\n      <td>2015</td>\n      <td>70%</td>\n      <td>France</td>\n      <td>2.75</td>\n    </tr>\n    <tr>\n      <th>2</th>\n      <td>A. Morin</td>\n      <td>2015</td>\n      <td>70%</td>\n      <td>France</td>\n      <td>3.00</td>\n    </tr>\n    <tr>\n      <th>3</th>\n      <td>A. Morin</td>\n      <td>2015</td>\n      <td>70%</td>\n      <td>France</td>\n      <td>3.50</td>\n    </tr>\n    <tr>\n      <th>4</th>\n      <td>A. Morin</td>\n      <td>2015</td>\n      <td>70%</td>\n      <td>France</td>\n      <td>3.50</td>\n    </tr>\n  </tbody>\n</table>\n</div>"
     },
     "metadata": {},
     "execution_count": 24
    }
   ],
   "source": [
    "df.columns = [' '.join(i.split('\\n')) for i in df.columns]\n",
    "df.head()"
   ]
  },
  {
   "source": [
    "2. 巧克力`Rating`评分为1至5，每0.25分一档，请选出2.75分及以下且可可含量`Cocoa Percent`高于中位数的样本。"
   ],
   "cell_type": "markdown",
   "metadata": {}
  },
  {
   "cell_type": "code",
   "execution_count": 25,
   "metadata": {},
   "outputs": [
    {
     "output_type": "execute_result",
     "data": {
      "text/plain": [
       "               Company  Review Date  Cocoa Percent Company Location  Rating\n",
       "33  Akesson's (Pralus)         2010           0.75      Switzerland    2.75\n",
       "34  Akesson's (Pralus)         2010           0.75      Switzerland    2.75\n",
       "36       Alain Ducasse         2014           0.75           France    2.75\n",
       "38       Alain Ducasse         2013           0.75           France    2.50\n",
       "39       Alain Ducasse         2013           0.75           France    2.50"
      ],
      "text/html": "<div>\n<style scoped>\n    .dataframe tbody tr th:only-of-type {\n        vertical-align: middle;\n    }\n\n    .dataframe tbody tr th {\n        vertical-align: top;\n    }\n\n    .dataframe thead th {\n        text-align: right;\n    }\n</style>\n<table border=\"1\" class=\"dataframe\">\n  <thead>\n    <tr style=\"text-align: right;\">\n      <th></th>\n      <th>Company</th>\n      <th>Review Date</th>\n      <th>Cocoa Percent</th>\n      <th>Company Location</th>\n      <th>Rating</th>\n    </tr>\n  </thead>\n  <tbody>\n    <tr>\n      <th>33</th>\n      <td>Akesson's (Pralus)</td>\n      <td>2010</td>\n      <td>0.75</td>\n      <td>Switzerland</td>\n      <td>2.75</td>\n    </tr>\n    <tr>\n      <th>34</th>\n      <td>Akesson's (Pralus)</td>\n      <td>2010</td>\n      <td>0.75</td>\n      <td>Switzerland</td>\n      <td>2.75</td>\n    </tr>\n    <tr>\n      <th>36</th>\n      <td>Alain Ducasse</td>\n      <td>2014</td>\n      <td>0.75</td>\n      <td>France</td>\n      <td>2.75</td>\n    </tr>\n    <tr>\n      <th>38</th>\n      <td>Alain Ducasse</td>\n      <td>2013</td>\n      <td>0.75</td>\n      <td>France</td>\n      <td>2.50</td>\n    </tr>\n    <tr>\n      <th>39</th>\n      <td>Alain Ducasse</td>\n      <td>2013</td>\n      <td>0.75</td>\n      <td>France</td>\n      <td>2.50</td>\n    </tr>\n  </tbody>\n</table>\n</div>"
     },
     "metadata": {},
     "execution_count": 25
    }
   ],
   "source": [
    "df['Cocoa Percent'] = df['Cocoa Percent'].apply(lambda x:float(x[:-1])/100)\n",
    "df.query('(Rating<3)&(`Cocoa Percent`>`Cocoa Percent`.median())').head()"
   ]
  },
  {
   "source": [
    "3. 将`Review Date`和`Company Location`设为索引后，选出`Review Date`在2012年之后且`Company Location`不属于`France, Canada, Amsterdam, Belgium`的样本。"
   ],
   "cell_type": "markdown",
   "metadata": {}
  },
  {
   "cell_type": "code",
   "execution_count": 27,
   "metadata": {},
   "outputs": [
    {
     "output_type": "execute_result",
     "data": {
      "text/plain": [
       "                                  Company  Cocoa Percent  Rating\n",
       "Review Date Company Location                                    \n",
       "2012        Australia         Bahen & Co.           0.70    3.00\n",
       "            Australia         Bahen & Co.           0.70    2.50\n",
       "            Australia         Bahen & Co.           0.70    2.50\n",
       "            Australia              Cravve           0.75    3.25\n",
       "            Australia              Cravve           0.65    3.25"
      ],
      "text/html": "<div>\n<style scoped>\n    .dataframe tbody tr th:only-of-type {\n        vertical-align: middle;\n    }\n\n    .dataframe tbody tr th {\n        vertical-align: top;\n    }\n\n    .dataframe thead th {\n        text-align: right;\n    }\n</style>\n<table border=\"1\" class=\"dataframe\">\n  <thead>\n    <tr style=\"text-align: right;\">\n      <th></th>\n      <th></th>\n      <th>Company</th>\n      <th>Cocoa Percent</th>\n      <th>Rating</th>\n    </tr>\n    <tr>\n      <th>Review Date</th>\n      <th>Company Location</th>\n      <th></th>\n      <th></th>\n      <th></th>\n    </tr>\n  </thead>\n  <tbody>\n    <tr>\n      <th rowspan=\"5\" valign=\"top\">2012</th>\n      <th>Australia</th>\n      <td>Bahen &amp; Co.</td>\n      <td>0.70</td>\n      <td>3.00</td>\n    </tr>\n    <tr>\n      <th>Australia</th>\n      <td>Bahen &amp; Co.</td>\n      <td>0.70</td>\n      <td>2.50</td>\n    </tr>\n    <tr>\n      <th>Australia</th>\n      <td>Bahen &amp; Co.</td>\n      <td>0.70</td>\n      <td>2.50</td>\n    </tr>\n    <tr>\n      <th>Australia</th>\n      <td>Cravve</td>\n      <td>0.75</td>\n      <td>3.25</td>\n    </tr>\n    <tr>\n      <th>Australia</th>\n      <td>Cravve</td>\n      <td>0.65</td>\n      <td>3.25</td>\n    </tr>\n  </tbody>\n</table>\n</div>"
     },
     "metadata": {},
     "execution_count": 27
    }
   ],
   "source": [
    "idx = pd.IndexSlice\n",
    "exclude = ['France', 'Canada', 'Amsterdam', 'Belgium']\n",
    "res = df.set_index(['Review Date', 'Company Location']).sort_index(level=0)\n",
    "res.loc[idx[2012:,~res.index.get_level_values(1).isin(exclude)],:].head()"
   ]
  }
 ]
}