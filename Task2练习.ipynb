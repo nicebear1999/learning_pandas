{
 "metadata": {
  "language_info": {
   "codemirror_mode": {
    "name": "ipython",
    "version": 3
   },
   "file_extension": ".py",
   "mimetype": "text/x-python",
   "name": "python",
   "nbconvert_exporter": "python",
   "pygments_lexer": "ipython3",
   "version": "3.7.9-final"
  },
  "orig_nbformat": 2,
  "kernelspec": {
   "name": "python3",
   "display_name": "Python 3",
   "language": "python"
  }
 },
 "nbformat": 4,
 "nbformat_minor": 2,
 "cells": [
  {
   "source": [
    "## 第二章 pandas基础\n",
    "### Ex1：口袋妖怪数据集\n",
    "1.对`HP, Attack, Defense, Sp. Atk, Sp. Def, Speed`进行加总，验证是否为`Total`值。"
   ],
   "cell_type": "markdown",
   "metadata": {}
  },
  {
   "cell_type": "code",
   "execution_count": 1,
   "metadata": {},
   "outputs": [
    {
     "output_type": "execute_result",
     "data": {
      "text/plain": [
       "   #                   Name Type 1  Type 2  Total  HP  Attack  Defense  \\\n",
       "0  1              Bulbasaur  Grass  Poison    318  45      49       49   \n",
       "1  2                Ivysaur  Grass  Poison    405  60      62       63   \n",
       "2  3               Venusaur  Grass  Poison    525  80      82       83   \n",
       "3  3  VenusaurMega Venusaur  Grass  Poison    625  80     100      123   \n",
       "4  4             Charmander   Fire     NaN    309  39      52       43   \n",
       "\n",
       "   Sp. Atk  Sp. Def  Speed  \n",
       "0       65       65     45  \n",
       "1       80       80     60  \n",
       "2      100      100     80  \n",
       "3      122      120     80  \n",
       "4       60       50     65  "
      ],
      "text/html": "<div>\n<style scoped>\n    .dataframe tbody tr th:only-of-type {\n        vertical-align: middle;\n    }\n\n    .dataframe tbody tr th {\n        vertical-align: top;\n    }\n\n    .dataframe thead th {\n        text-align: right;\n    }\n</style>\n<table border=\"1\" class=\"dataframe\">\n  <thead>\n    <tr style=\"text-align: right;\">\n      <th></th>\n      <th>#</th>\n      <th>Name</th>\n      <th>Type 1</th>\n      <th>Type 2</th>\n      <th>Total</th>\n      <th>HP</th>\n      <th>Attack</th>\n      <th>Defense</th>\n      <th>Sp. Atk</th>\n      <th>Sp. Def</th>\n      <th>Speed</th>\n    </tr>\n  </thead>\n  <tbody>\n    <tr>\n      <th>0</th>\n      <td>1</td>\n      <td>Bulbasaur</td>\n      <td>Grass</td>\n      <td>Poison</td>\n      <td>318</td>\n      <td>45</td>\n      <td>49</td>\n      <td>49</td>\n      <td>65</td>\n      <td>65</td>\n      <td>45</td>\n    </tr>\n    <tr>\n      <th>1</th>\n      <td>2</td>\n      <td>Ivysaur</td>\n      <td>Grass</td>\n      <td>Poison</td>\n      <td>405</td>\n      <td>60</td>\n      <td>62</td>\n      <td>63</td>\n      <td>80</td>\n      <td>80</td>\n      <td>60</td>\n    </tr>\n    <tr>\n      <th>2</th>\n      <td>3</td>\n      <td>Venusaur</td>\n      <td>Grass</td>\n      <td>Poison</td>\n      <td>525</td>\n      <td>80</td>\n      <td>82</td>\n      <td>83</td>\n      <td>100</td>\n      <td>100</td>\n      <td>80</td>\n    </tr>\n    <tr>\n      <th>3</th>\n      <td>3</td>\n      <td>VenusaurMega Venusaur</td>\n      <td>Grass</td>\n      <td>Poison</td>\n      <td>625</td>\n      <td>80</td>\n      <td>100</td>\n      <td>123</td>\n      <td>122</td>\n      <td>120</td>\n      <td>80</td>\n    </tr>\n    <tr>\n      <th>4</th>\n      <td>4</td>\n      <td>Charmander</td>\n      <td>Fire</td>\n      <td>NaN</td>\n      <td>309</td>\n      <td>39</td>\n      <td>52</td>\n      <td>43</td>\n      <td>60</td>\n      <td>50</td>\n      <td>65</td>\n    </tr>\n  </tbody>\n</table>\n</div>"
     },
     "metadata": {},
     "execution_count": 1
    }
   ],
   "source": [
    "import numpy as np\n",
    "import pandas as pd\n",
    "df = pd.read_csv('./data/pokemon.csv') #.set_index(['#'])\n",
    "df.head()"
   ]
  },
  {
   "cell_type": "code",
   "execution_count": 37,
   "metadata": {},
   "outputs": [
    {
     "output_type": "execute_result",
     "data": {
      "text/plain": [
       "0"
      ]
     },
     "metadata": {},
     "execution_count": 37
    }
   ],
   "source": [
    "sum(df[df.columns[5:]].sum(1)!=df.Total)"
   ]
  },
  {
   "source": [
    "2. 对于`#`重复的妖怪只保留第一条记录，解决以下问题：\n",
    "* 求第一属性的种类数量和前三多数量对应的种类\n",
    "* 求第一属性和第二属性的组合种类\n",
    "* 求尚未出现过的属性组合"
   ],
   "cell_type": "markdown",
   "metadata": {}
  },
  {
   "cell_type": "code",
   "execution_count": 48,
   "metadata": {},
   "outputs": [
    {
     "output_type": "stream",
     "name": "stdout",
     "text": [
      "18\nIndex(['Water', 'Normal', 'Grass'], dtype='object')\n"
     ]
    },
    {
     "output_type": "execute_result",
     "data": {
      "text/plain": [
       "199"
      ]
     },
     "metadata": {},
     "execution_count": 48
    }
   ],
   "source": [
    "df=df.drop_duplicates(['#'], keep='first')\n",
    "\n",
    "print(df['Type 1'].nunique())\n",
    "print(df['Type 1'].value_counts().index[:3])\n",
    "\n",
    "df.drop_duplicates(['Type 1','Type 2'], keep='first')\n",
    "\n",
    "L_full = [i+' '+j for i in df['Type 1'].unique() for j in (df['Type 1'].unique().tolist() + [''])]\n",
    "L_part = [i+' '+j for i, j in zip(df['Type 1'], df['Type 2'].replace(np.nan, ''))]\n",
    "res = set(L_full).difference(set(L_part))\n",
    "len(res) "
   ]
  },
  {
   "source": [
    "3. 按照下述要求，构造`Series`：\n",
    "\n",
    "* 取出物攻，超过120的替换为`high`，不足50的替换为`low`，否则设为`mid`\n",
    "* 取出第一属性，分别用`replace`和`apply`替换所有字母为大写\n",
    "* 求每个妖怪六项能力的离差，即所有能力中偏离中位数最大的值，添加到`df`并从大到小排序"
   ],
   "cell_type": "markdown",
   "metadata": {}
  },
  {
   "cell_type": "code",
   "execution_count": 49,
   "metadata": {},
   "outputs": [
    {
     "output_type": "execute_result",
     "data": {
      "text/plain": [
       "0       low\n",
       "1       mid\n",
       "2       mid\n",
       "4       mid\n",
       "5       mid\n",
       "       ... \n",
       "793    high\n",
       "794     mid\n",
       "795     mid\n",
       "797     mid\n",
       "799     mid\n",
       "Name: Attack, Length: 721, dtype: object"
      ]
     },
     "metadata": {},
     "execution_count": 49
    }
   ],
   "source": [
    "df['Attack'].mask(df['Attack']<=50,'low').mask(df['Attack']>120,'high').mask((50<=df['Attack'])&(df['Attack']<=120),'mid')"
   ]
  },
  {
   "cell_type": "code",
   "execution_count": 50,
   "metadata": {},
   "outputs": [
    {
     "output_type": "execute_result",
     "data": {
      "text/plain": [
       "0    GRASS\n",
       "1    GRASS\n",
       "2    GRASS\n",
       "4     FIRE\n",
       "5     FIRE\n",
       "Name: Type 1, dtype: object"
      ]
     },
     "metadata": {},
     "execution_count": 50
    }
   ],
   "source": [
    "df['Type 1'].replace({i:str.upper(i) for i in df['Type 1'].unique()})\n",
    "df['Type 1'].apply(lambda x:str.upper(x)).head()"
   ]
  },
  {
   "cell_type": "code",
   "execution_count": 51,
   "metadata": {},
   "outputs": [
    {
     "output_type": "execute_result",
     "data": {
      "text/plain": [
       "       #       Name   Type 1  Type 2  Total   HP  Attack  Defense  Sp. Atk  \\\n",
       "230  213    Shuckle      Bug    Rock    505   20      10      230       10   \n",
       "121  113    Chansey   Normal     NaN    450  250       5        5       35   \n",
       "261  242    Blissey   Normal     NaN    540  255      10       10       75   \n",
       "217  202  Wobbuffet  Psychic     NaN    405  190      33       58       33   \n",
       "223  208    Steelix    Steel  Ground    510   75      85      200       55   \n",
       "\n",
       "     Sp. Def  Speed  Deviation  \n",
       "230      230      5      215.0  \n",
       "121      105     50      207.5  \n",
       "261      135     55      190.0  \n",
       "217       58     33      144.5  \n",
       "223       65     30      130.0  "
      ],
      "text/html": "<div>\n<style scoped>\n    .dataframe tbody tr th:only-of-type {\n        vertical-align: middle;\n    }\n\n    .dataframe tbody tr th {\n        vertical-align: top;\n    }\n\n    .dataframe thead th {\n        text-align: right;\n    }\n</style>\n<table border=\"1\" class=\"dataframe\">\n  <thead>\n    <tr style=\"text-align: right;\">\n      <th></th>\n      <th>#</th>\n      <th>Name</th>\n      <th>Type 1</th>\n      <th>Type 2</th>\n      <th>Total</th>\n      <th>HP</th>\n      <th>Attack</th>\n      <th>Defense</th>\n      <th>Sp. Atk</th>\n      <th>Sp. Def</th>\n      <th>Speed</th>\n      <th>Deviation</th>\n    </tr>\n  </thead>\n  <tbody>\n    <tr>\n      <th>230</th>\n      <td>213</td>\n      <td>Shuckle</td>\n      <td>Bug</td>\n      <td>Rock</td>\n      <td>505</td>\n      <td>20</td>\n      <td>10</td>\n      <td>230</td>\n      <td>10</td>\n      <td>230</td>\n      <td>5</td>\n      <td>215.0</td>\n    </tr>\n    <tr>\n      <th>121</th>\n      <td>113</td>\n      <td>Chansey</td>\n      <td>Normal</td>\n      <td>NaN</td>\n      <td>450</td>\n      <td>250</td>\n      <td>5</td>\n      <td>5</td>\n      <td>35</td>\n      <td>105</td>\n      <td>50</td>\n      <td>207.5</td>\n    </tr>\n    <tr>\n      <th>261</th>\n      <td>242</td>\n      <td>Blissey</td>\n      <td>Normal</td>\n      <td>NaN</td>\n      <td>540</td>\n      <td>255</td>\n      <td>10</td>\n      <td>10</td>\n      <td>75</td>\n      <td>135</td>\n      <td>55</td>\n      <td>190.0</td>\n    </tr>\n    <tr>\n      <th>217</th>\n      <td>202</td>\n      <td>Wobbuffet</td>\n      <td>Psychic</td>\n      <td>NaN</td>\n      <td>405</td>\n      <td>190</td>\n      <td>33</td>\n      <td>58</td>\n      <td>33</td>\n      <td>58</td>\n      <td>33</td>\n      <td>144.5</td>\n    </tr>\n    <tr>\n      <th>223</th>\n      <td>208</td>\n      <td>Steelix</td>\n      <td>Steel</td>\n      <td>Ground</td>\n      <td>510</td>\n      <td>75</td>\n      <td>85</td>\n      <td>200</td>\n      <td>55</td>\n      <td>65</td>\n      <td>30</td>\n      <td>130.0</td>\n    </tr>\n  </tbody>\n</table>\n</div>"
     },
     "metadata": {},
     "execution_count": 51
    }
   ],
   "source": [
    "df['Deviation']=df[df.columns[5:11]].apply(lambda x:np.max((x-x.median()).abs()), 1)\n",
    "df.sort_values('Deviation', ascending=False).head()"
   ]
  },
  {
   "source": [
    "### Ex2：指数加权窗口\n",
    "1. 作为扩张窗口的`ewm`窗口\n",
    "\n",
    "在扩张窗口中，用户可以使用各类函数进行历史的累计指标统计，但这些内置的统计函数往往把窗口中的所有元素赋予了同样的权重。事实上，可以给出不同的权重来赋给窗口中的元素，指数加权窗口就是这样一种特殊的扩张窗口。\n",
    "\n",
    "其中，最重要的参数是`alpha`，它决定了默认情况下的窗口权重为$w_i=(1−\\alpha)^i,i\\in\\{0,1,...,t\\}$，其中$i=t$表示当前元素，$i=0$表示序列的第一个元素。\n",
    "\n",
    "从权重公式可以看出，离开当前值越远则权重越小，若记原序列为$x$，更新后的当前元素为$y_t$，此时通过加权公式归一化后可知：\n",
    "\n",
    "$$\n",
    "\\begin{split}y_t &=\\frac{\\sum_{i=0}^{t} w_i x_{t-i}}{\\sum_{i=0}^{t} w_i} \\\\\n",
    "&=\\frac{x_t + (1 - \\alpha)x_{t-1} + (1 - \\alpha)^2 x_{t-2} + ...\n",
    "+ (1 - \\alpha)^{t} x_{0}}{1 + (1 - \\alpha) + (1 - \\alpha)^2 + ...\n",
    "+ (1 - \\alpha)^{t}}\\\\\\end{split}\n",
    "$$\n",
    "\n",
    "对于`Series`而言，可以用`ewm`对象如下计算指数平滑后的序列："
   ],
   "cell_type": "markdown",
   "metadata": {}
  },
  {
   "cell_type": "code",
   "execution_count": 2,
   "metadata": {},
   "outputs": [
    {
     "output_type": "execute_result",
     "data": {
      "text/plain": [
       "0   -1\n",
       "1   -1\n",
       "2   -2\n",
       "3   -2\n",
       "4   -2\n",
       "dtype: int32"
      ]
     },
     "metadata": {},
     "execution_count": 2
    }
   ],
   "source": [
    "np.random.seed(0)\n",
    "s = pd.Series(np.random.randint(-1,2,30).cumsum())\n",
    "s.head()"
   ]
  },
  {
   "cell_type": "code",
   "execution_count": 24,
   "metadata": {},
   "outputs": [
    {
     "output_type": "execute_result",
     "data": {
      "text/plain": [
       "ExponentialMovingWindow [com=4.0,min_periods=1,adjust=True,ignore_na=False,axis=0]"
      ]
     },
     "metadata": {},
     "execution_count": 24
    }
   ],
   "source": [
    "s.ewm(alpha=0.2).mean()"
   ]
  },
  {
   "source": [
    "请用`expanding`窗口实现。"
   ],
   "cell_type": "markdown",
   "metadata": {}
  },
  {
   "cell_type": "code",
   "execution_count": 53,
   "metadata": {},
   "outputs": [
    {
     "output_type": "execute_result",
     "data": {
      "text/plain": [
       "0    -1.000000\n",
       "1    -1.000000\n",
       "2    -1.409836\n",
       "3    -1.609756\n",
       "4    -1.725845\n",
       "5    -1.529101\n",
       "6    -1.648273\n",
       "7    -1.492481\n",
       "8    -1.609720\n",
       "9    -1.921223\n",
       "10   -2.376048\n",
       "11   -2.510047\n",
       "12   -2.613738\n",
       "13   -2.485343\n",
       "14   -2.177441\n",
       "15   -2.140925\n",
       "16   -2.112091\n",
       "17   -2.089261\n",
       "18   -2.071148\n",
       "19   -2.056753\n",
       "20   -2.247158\n",
       "21   -2.398846\n",
       "22   -2.720978\n",
       "23   -3.178945\n",
       "24   -3.544537\n",
       "25   -3.635906\n",
       "26   -3.909386\n",
       "27   -3.927544\n",
       "28   -4.142368\n",
       "29   -4.314107\n",
       "dtype: float64"
      ]
     },
     "metadata": {},
     "execution_count": 53
    }
   ],
   "source": [
    "def ewmean(x, alpha):\n",
    "    weight=list((1-alpha)**i for i in range(x.shape[0]-1,-1,-1)) \n",
    "    # 传入值x是Series，Series与Series是索引对应相乘，Series与列表按顺序相乘\n",
    "    return ((x*weight)/sum(weight)).sum()\n",
    "alpha=0.2\n",
    "s.expanding().apply(lambda x:ewmean(x,alpha))"
   ]
  },
  {
   "source": [
    "2. 作为滑动窗口的`ewm`窗口\n",
    "\n",
    "从第1问中可以看到，`ewm`作为一种扩张窗口的特例，只能从序列的第一个元素开始加权。现在希望给定一个限制窗口`n`，只对包含自身的最近的`n`个元素作为窗口进行滑动加权平滑。请根据滑窗函数，给出新的`wi`与`yt`的更新公式，并通过`rolling`窗口实现这一功能。"
   ],
   "cell_type": "markdown",
   "metadata": {}
  },
  {
   "cell_type": "code",
   "execution_count": 54,
   "metadata": {},
   "outputs": [
    {
     "output_type": "execute_result",
     "data": {
      "text/plain": [
       "0          NaN\n",
       "1          NaN\n",
       "2    -1.409836\n",
       "3    -1.737705\n",
       "4    -2.000000\n",
       "5    -1.590164\n",
       "6    -1.672131\n",
       "7    -1.327869\n",
       "8    -1.672131\n",
       "9    -2.147541\n",
       "10   -3.147541\n",
       "11   -3.327869\n",
       "12   -3.262295\n",
       "13   -2.590164\n",
       "14   -1.852459\n",
       "15   -1.672131\n",
       "16   -1.737705\n",
       "17   -2.000000\n",
       "18   -2.000000\n",
       "19   -2.000000\n",
       "20   -2.409836\n",
       "21   -2.737705\n",
       "22   -3.409836\n",
       "23   -4.147541\n",
       "24   -4.737705\n",
       "25   -4.590164\n",
       "26   -4.672131\n",
       "27   -4.327869\n",
       "28   -4.672131\n",
       "29   -4.737705\n",
       "dtype: float64"
      ]
     },
     "metadata": {},
     "execution_count": 54
    }
   ],
   "source": [
    "s.rolling(n).apply(lambda x:ewmean(x,alpha))"
   ]
  }
 ]
}